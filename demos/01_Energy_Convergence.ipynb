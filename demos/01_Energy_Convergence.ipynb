{
 "cells": [
  {
   "cell_type": "markdown",
   "metadata": {},
   "source": [
    "<a href=\"https://colab.research.google.com/github/jamesETsmith/2022_simons_collab_pyscf_workshop/blob/main/demos/01_Energy_Convergence.ipynb\" target=\"_parent\"><img src=\"https://colab.research.google.com/assets/colab-badge.svg\" alt=\"Open In Colab\"/></a>"
   ]
  },
  {
   "cell_type": "markdown",
   "metadata": {},
   "source": [
    "# Setting up the Jupyter notebook\n",
    "\n",
    "* We need to install a few things before we get started\n",
    "  * [PySCF](https://pyscf.org/) (for the quantum chemistry)\n",
    "  * [py3DMol](https://3dmol.csb.pitt.edu/) for visualizing the molecule\n",
    "  * [plotly](https://plotly.com/python/) and kaleido for plotting"
   ]
  },
  {
   "cell_type": "code",
   "execution_count": null,
   "metadata": {},
   "outputs": [],
   "source": [
    "%pip install -q pyscf py3DMol plotly kaleido"
   ]
  },
  {
   "cell_type": "code",
   "execution_count": null,
   "metadata": {},
   "outputs": [],
   "source": [
    "from pyscf import gto, scf, dft, mp, cc\n",
    "import py3Dmol\n",
    "import plotly.express as px"
   ]
  },
  {
   "cell_type": "markdown",
   "metadata": {},
   "source": [
    "# Setting up our system\n",
    "\n",
    "- We initialize the molecular (or solid) PySCF object with coordinates, symmetry, basis, spin, and charge information\n",
    "- We can check that things look right with [py3DMol](https://3dmol.csb.pitt.edu/). Use your mouse to move the molecular around!\n",
    "\n"
   ]
  },
  {
   "cell_type": "code",
   "execution_count": null,
   "metadata": {},
   "outputs": [],
   "source": [
    "# Experimental geometry of gas-phase water\n",
    "# Ref: https://cccbdb.nist.gov/expgeom2x.asp\n",
    "mol_xyz = \"\"\"O        0.0000   0.0000   0.1173\n",
    "             H        0.0000   0.7572\t -0.4692\n",
    "             H        0.0000  -0.7572\t -0.4692\"\"\"\n",
    "mol = gto.M(atom=mol_xyz, basis=\"def2tzvp\", verbose=4) # TODO: add symmetry, spin, and charge but say they are handled by default"
   ]
  },
  {
   "cell_type": "code",
   "execution_count": null,
   "metadata": {},
   "outputs": [],
   "source": [
    "xyz_view = py3Dmol.view(width=400,height=400)\n",
    "xyz_view.addModel(mol.tostring(format=\"xyz\"),'xyz')\n",
    "xyz_view.setStyle({'stick':{}, \"sphere\":{\"radius\":0.4}})\n",
    "xyz_view.setBackgroundColor('0xeeeeee')\n",
    "xyz_view.show()"
   ]
  },
  {
   "cell_type": "markdown",
   "metadata": {},
   "source": [
    "# Short survey of quantum chemistry methods"
   ]
  },
  {
   "cell_type": "markdown",
   "metadata": {},
   "source": [
    "## [Hartree-Fock](https://en.wikipedia.org/wiki/Hartree%E2%80%93Fock_method)\n",
    "\n",
    "\n",
    "* Hatree-Fock (HF) is the starting point of the most of quantum chemistry\n",
    "* We variationally optimize the orbitals for a single [Slater determinint](https://en.wikipedia.org/wiki/Slater_determinant)\n",
    "* Working in the basis of atom-centered basis function we solve the [Roothaan-Hall](https://en.wikipedia.org/wiki/Roothaan_equations) equations:\n",
    "\n",
    "$\\textbf{FC} = \\textbf{SC} \\epsilon$\n",
    "\n",
    "* $\\textbf{F}$ is the [Fock matrix]()\n",
    "* $\\textbf{C}$ is the molecular orbital coefficient matrix\n",
    "* $\\textbf{S}$ is the atomic orbital overlap matrix\n",
    "* $\\epsilon$ is the vector of molecular orbital energies\n",
    "\n",
    "See the PySCF [user guide](https://pyscf.org/user/scf.html) and [examples](https://github.com/pyscf/pyscf/tree/master/examples/scf) for more info.\n",
    "\n"
   ]
  },
  {
   "cell_type": "code",
   "execution_count": null,
   "metadata": {},
   "outputs": [],
   "source": [
    "mymf = scf.RHF(mol).run()"
   ]
  },
  {
   "cell_type": "markdown",
   "metadata": {},
   "source": [
    "## [Density Functional Theory](https://en.wikipedia.org/wiki/Density_functional_theory)\n",
    "\n",
    "* In Density Functional Theory (DFT), the electron density of a reference noninteracting system is used to represent the density of the true interacting system.\n",
    "* The formulation resembles HF with a different effective Fock potential.\n",
    "* This effective potential depends on the density functional approximation which is chosen by the user.\n",
    "* PySCF gives users the access to a large number of functionals through the [libxc](https://tddft.org/programs/libxc/) and [xcfun](https://github.com/dftlibs/xcfun) libraries.\n",
    "\n",
    "See the PySCF [user guide](https://pyscf.org/user/dft.html) and [examples](https://github.com/pyscf/pyscf/tree/master/examples/dft) for more info."
   ]
  },
  {
   "cell_type": "code",
   "execution_count": null,
   "metadata": {},
   "outputs": [],
   "source": [
    "myrks = dft.RKS(mol, xc=\"PBE\").run()"
   ]
  },
  {
   "cell_type": "markdown",
   "metadata": {},
   "source": [
    "## [Møller–Plesset perturbation theory](https://en.wikipedia.org/wiki/M%C3%B8ller%E2%80%93Plesset_perturbation_theory)\n",
    "\n",
    "* Perturbative corrections to the Hartree-Fock approximation.\n",
    "\n",
    "See the PySCF [user guide](https://pyscf.org/user/mp.html) and [examples](https://github.com/pyscf/pyscf/tree/master/examples/mp) for more info."
   ]
  },
  {
   "cell_type": "code",
   "execution_count": null,
   "metadata": {},
   "outputs": [],
   "source": [
    "mymp2 = mp.MP2(mymf).run()"
   ]
  },
  {
   "cell_type": "markdown",
   "metadata": {},
   "source": [
    "## [Coupled Cluster](https://en.wikipedia.org/wiki/Coupled_cluster)\n",
    "\n",
    "* Perturbative method that improves on the Hartree-Fock approximation.\n",
    "* Coupled Cluster Singles and Doubles (CCSD) includes single and double excitation on top of the HF wave function.\n",
    "* Accuracy can be improved by including triples perturbatively (CCSD(T)).\n",
    "* Non-variational, but size extensive description of ground states. For excited states, see [EOM-CCSD]().\n",
    "\n",
    "See the PySCF [user guide](https://pyscf.org/user/cc.html) and [examples](https://github.com/pyscf/pyscf/tree/master/examples/cc) for more info."
   ]
  },
  {
   "cell_type": "code",
   "execution_count": null,
   "metadata": {},
   "outputs": [],
   "source": [
    "mycc = cc.CCSD(mymf).run()"
   ]
  },
  {
   "cell_type": "code",
   "execution_count": null,
   "metadata": {},
   "outputs": [],
   "source": [
    "e_ccsd_t = mycc.ccsd_t()"
   ]
  },
  {
   "cell_type": "markdown",
   "metadata": {},
   "source": [
    "# Analysis\n",
    "\n",
    "* TODO"
   ]
  },
  {
   "cell_type": "code",
   "execution_count": null,
   "metadata": {},
   "outputs": [],
   "source": [
    "# Collect data\n",
    "methods = [\"HF\", \"MP2\", \"CCSD\", \"CCSD(T)\"]\n",
    "energies = [mymf.e_tot, mymp2.e_tot, mycc.e_tot, mycc.e_tot + e_ccsd_t]\n",
    "\n",
    "# Plotting\n",
    "fig = px.line(x=methods, y=energies, title=\"Jacob's Ladder\", markers=True)\n",
    "fig.update_layout(xaxis_title=\"Method\", yaxis_title=\"Energy (Ha)\")\n",
    "fig.update_traces(marker_size=12)\n",
    "fig.show() # It's interactive!"
   ]
  },
  {
   "cell_type": "code",
   "execution_count": null,
   "metadata": {},
   "outputs": [],
   "source": []
  }
 ],
 "metadata": {
  "colab": {
   "collapsed_sections": [],
   "include_colab_link": true,
   "name": "01_Energy_Convergence.ipynb",
   "provenance": []
  },
  "kernelspec": {
   "display_name": "Python 3",
   "name": "python3"
  },
  "language_info": {
   "name": "python"
  }
 },
 "nbformat": 4,
 "nbformat_minor": 0
}
