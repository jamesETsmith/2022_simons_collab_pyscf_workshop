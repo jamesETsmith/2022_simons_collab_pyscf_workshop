{
 "cells": [
  {
   "cell_type": "markdown",
   "metadata": {},
   "source": [
    "<a href=\"https://colab.research.google.com/github/jamesETsmith/2022_simons_collab_pyscf_workshop/blob/main/demos/03_TDL_Convergence.ipynb\" target=\"_parent\"><img src=\"https://colab.research.google.com/assets/colab-badge.svg\" alt=\"Open In Colab\"/></a>"
   ]
  },
  {
   "cell_type": "markdown",
   "metadata": {},
   "source": [
    "# Setting up the Jupyter notebook\n",
    "\n",
    "* We need to install a few things before we get started\n",
    "  * [PySCF](https://pyscf.org/) for the quantum chemistry\n",
    "  * [NumPy](https://numpy.org/) for manipulating arrays\n",
    "  * [plotly](https://plotly.com/python/) for plotting\n",
    "  * [pandas](https://pandas.pydata.org/) for manipulating table data"
   ]
  },
  {
   "cell_type": "code",
   "execution_count": null,
   "metadata": {},
   "outputs": [],
   "source": [
    "%pip install numpy pyscf plotly==5.8.0 pandas"
   ]
  },
  {
   "cell_type": "markdown",
   "metadata": {},
   "source": [
    "# What makes a meaningful quantum chemistry calculation for solid systems?\n",
    "\n",
    "In calculations for solids, we consider a unit cell of atoms which we then infinitely repeat in space using periodic boundary conditions. This means that only the atoms in the unit cell are independently treated. The other atoms are periodic images. See e.g. https://en.wikipedia.org/wiki/Periodic_boundary_conditions.\n",
    "\n",
    "Besides the same requirement as a molecular calculations, i.e.\n",
    "\n",
    "- A proper **method** (see previous notebook)\n",
    "- A proper **1e basis set** (see previous notebook),\n",
    "\n",
    "a calculation with periodic boundary conditions needs a large enough cell that enough atoms are treated effectively independently, not as images. Instead of increasing the cell in real space, we increase it in reciprocal space with an increasing number of **k** points. Therefore, we also need\n",
    "\n",
    "- A large enough number of **k points** to reach the thermodynamic limit (TDL) and remove finite size errors.\n",
    "\n",
    "\n",
    "# Sources of error\n",
    "  - **Method** error (see previous notebook)\n",
    "  - **Basis set incompleteness** error (see previous notebook)\n",
    "  - **Finite size** error"
   ]
  },
  {
   "cell_type": "markdown",
   "metadata": {},
   "source": [
    "# Focus on removing the finite size error here:\n",
    "\n",
    "Method and basis sets are chosen to be inexpensive here (DFT with LDA and gth-szv basis). Note: this is usually not enough for production calculations."
   ]
  },
  {
   "cell_type": "code",
   "execution_count": null,
   "metadata": {},
   "outputs": [],
   "source": [
    "import numpy as np # manipulate arrays\n",
    "import pandas as pd # read in and manipulate csv data\n",
    "import plotly.express as px\n",
    "from pyscf.pbc import gto, scf # note the pyscf.pbc for solid calculations"
   ]
  },
  {
   "cell_type": "markdown",
   "metadata": {},
   "source": [
    "# Setting up our system\n",
    "We initialize the solid PySCF object with coordinates, basis, pseudopotential information.\n",
    "Here, we consider silicon in a face centered cubic (FCC) cell (see e.g. https://en.wikipedia.org/wiki/Silicon)."
   ]
  },
  {
   "cell_type": "code",
   "execution_count": null,
   "metadata": {},
   "outputs": [],
   "source": [
    "# Setting up primitive face centered cubic (FCC) cell\n",
    "latt_param = 5.431  # Default units are in Angstrom; https://physics.nist.gov/cgi-bin/cuu/Value?asil\n",
    "cell_lattice = 0.5*latt_param*np.asarray([[1.0, 0.0, 1.0],\n",
    "                                          [1.0, 1.0, 0.0],\n",
    "                                          [0.0, 1.0, 1.0]])\n",
    "qlp = latt_param*0.25\n",
    "cell_xyz = f\"\"\"Si        0.00000    0.00000   0.00000\n",
    "               Si        {qlp}      {qlp}     {qlp}\"\"\"\n",
    "cell = gto.Cell(a=cell_lattice, atom=cell_xyz, basis=\"gth-szv\", pseudo=\"gth-pade\", verbose=4)\n",
    "cell.build()"
   ]
  },
  {
   "cell_type": "markdown",
   "metadata": {},
   "source": [
    "## Density functional theory (here: LDA) energy in the thermodynamic limit\n",
    "Now, we would like to evaluate the LDA energy in the thermodynamic limit, i.e. the limit of an infinite bulk crystal or equivalently, an infinitely fine k point mesh. We start with small k point meshes and increase the number of k points until we can extrapolate to the thermodynamic limit."
   ]
  },
  {
   "cell_type": "code",
   "execution_count": null,
   "metadata": {},
   "outputs": [],
   "source": [
    "lda_es = []\n",
    "ks = list(range(1,6))\n",
    "# Only running k point meshes 111 to 555 due to cost here.\n",
    "for k in ks:\n",
    "    mykmf = scf.KRKS(cell, cell.make_kpts([k,k,k]), xc=\"lda\").run()\n",
    "    lda_es.append(mykmf.e_tot)\n",
    "print(lda_es)"
   ]
  },
  {
   "cell_type": "markdown",
   "metadata": {},
   "source": [
    "# Analysis"
   ]
  },
  {
   "cell_type": "code",
   "execution_count": null,
   "metadata": {},
   "outputs": [],
   "source": [
    "# Collect data\n",
    "inv_nk = [1/k**3 for k in ks] # This is 1/number of k points.\n",
    "energies = lda_es\n",
    "\n",
    "# Plotting\n",
    "fig = px.line(x=inv_nk, y=energies, title=\"LDA TDL Convergence\", markers=True)\n",
    "fig.update_layout(xaxis_title=\"1/Nk\", yaxis_title=\"Energy (Ha)\")\n",
    "fig.update_traces(marker_size=12)\n",
    "fig.update_xaxes(range=[0.0, 1.01])\n",
    "fig.show() # It's interactive!"
   ]
  },
  {
   "cell_type": "code",
   "execution_count": null,
   "metadata": {},
   "outputs": [],
   "source": [
    "# Since we did not have time to run more data, we use some previously calculated data:\n",
    "data = {\"k\": list(range(1,11)),\n",
    "        \"E_LDA\": [-6.782331133176456, -7.40198089364257, -7.479069536866599, -7.494960445535517,\n",
    "                  -7.499149552150502, -7.500421034558795, -7.50084684160541, -7.501000257157286,\n",
    "                  -7.501058802586751, -7.501082221827545]}\n",
    "# Note that using pandas is not really necessary here but this shows its use.\n",
    "lda_tdl = pd.DataFrame(data)\n",
    "lda_tdl"
   ]
  },
  {
   "cell_type": "code",
   "execution_count": null,
   "metadata": {},
   "outputs": [],
   "source": [
    "# Collect data\n",
    "inv_nk = 1/lda_tdl[\"k\"]**3 # This is 1/number of k points.\n",
    "energies = lda_tdl[\"E_LDA\"]\n",
    "\n",
    "# Plotting\n",
    "fig = px.line(x=inv_nk, y=energies, title=\"LDA TDL Convergence\", markers=True)\n",
    "fig.update_layout(xaxis_title=\"1/Nk\", yaxis_title=\"Energy (Ha)\")\n",
    "fig.update_traces(marker_size=12)\n",
    "fig.update_xaxes(range=[0.0, 1.01])\n",
    "fig.show()"
   ]
  },
  {
   "cell_type": "code",
   "execution_count": null,
   "metadata": {},
   "outputs": [],
   "source": []
  }
 ],
 "metadata": {
  "colab": {
   "authorship_tag": "ABX9TyMswzgwoZGlgPc1aNi3Advd",
   "include_colab_link": true,
   "name": "03_TDL_Convergence.ipynb",
   "provenance": []
  },
  "kernelspec": {
   "display_name": "Python 3 (ipykernel)",
   "language": "python",
   "name": "python3"
  },
  "language_info": {
   "codemirror_mode": {
    "name": "ipython",
    "version": 3
   },
   "file_extension": ".py",
   "mimetype": "text/x-python",
   "name": "python",
   "nbconvert_exporter": "python",
   "pygments_lexer": "ipython3"
  }
 },
 "nbformat": 4,
 "nbformat_minor": 1
}
